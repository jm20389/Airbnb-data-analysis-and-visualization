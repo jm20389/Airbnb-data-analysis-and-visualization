{
 "cells": [
  {
   "cell_type": "markdown",
   "metadata": {},
   "source": [
    "# CMT 309 Data Science Portfolio\n",
    "# Parts 1 and 2\n",
    "\n",
    "---"
   ]
  },
  {
   "cell_type": "markdown",
   "metadata": {
    "id": "3Pe7XhS9wEVw"
   },
   "source": [
    "# Part 1 - Pre-processing and exploratory analysis\n",
    "\n",
    "Instructions:\n",
    "\n",
    "- Answer the questions by filling in the appropriate sections of this file. \n",
    "- Do not remove or rename section headings or any code that has been provided, unless instructed otherwise.\n",
    "- You can add as many additional cells with code as you like.\n",
    "\n",
    "Before submitting,\n",
    "\n",
    "- Ensure that the code is clean, readable, and well documented. \n",
    "- Restart the kernel (to wipe all variables) and then run the code from top to bottom to produce all intermediate outputs. "
   ]
  },
  {
   "cell_type": "code",
   "execution_count": 1,
   "metadata": {
    "colab": {
     "base_uri": "https://localhost:8080/"
    },
    "id": "acSREWbeG0mm",
    "outputId": "beeccebf-cce6-4ff7-bb6c-45988b8748f5"
   },
   "outputs": [],
   "source": [
    "import scipy, os\n",
    "import pandas as pd\n",
    "import numpy as np\n",
    "import seaborn as sns\n",
    "import matplotlib.pyplot as plt\n",
    "import statsmodels.api as sm\n",
    "\n",
    "# add more imports here if you like\n",
    "# ...\n",
    "\n",
    "import re\n",
    "from datetime import date\n",
    "from scipy.stats import ttest_ind\n",
    "import math"
   ]
  },
  {
   "cell_type": "code",
   "execution_count": 2,
   "metadata": {
    "colab": {
     "base_uri": "https://localhost:8080/"
    },
    "id": "A6CTk1ZiFVIk",
    "outputId": "289693f3-8883-4104-f861-7b2a5c219e8a"
   },
   "outputs": [],
   "source": [
    "# if you use Google Colab:\n",
    "#from google.colab import drive\n",
    "#drive.mount('/content/drive')"
   ]
  },
  {
   "cell_type": "code",
   "execution_count": 3,
   "metadata": {
    "id": "ycIjzElBzG2x"
   },
   "outputs": [
    {
     "data": {
      "text/plain": [
       "['listings.csv', 'reviews.csv']"
      ]
     },
     "execution_count": 3,
     "metadata": {},
     "output_type": "execute_result"
    }
   ],
   "source": [
    "# change this line your folder where the data is found\n",
    "#basedir = '/content/drive/MyDrive/data'\n",
    "basedir = 'data'\n",
    "os.listdir(basedir)"
   ]
  },
  {
   "cell_type": "markdown",
   "metadata": {
    "id": "vwuEFzzUKzJW"
   },
   "source": [
    "In this part you will be working with the  `listings.csv` data. To help you wrap around your head we will first provide some information on the main columns in the data.\n",
    "\n",
    "***Dataframe columns description***:\n",
    "\n",
    "- `id` - unique ID identifying the listing\n",
    "\n",
    "- `name` - title of the listing\n",
    "\n",
    "- `host_id` - unique ID for a host\n",
    "\n",
    "- `host_name` - first name of the host\n",
    "\n",
    "- `host_since` - date that the host first joined Airbnb\n",
    "\n",
    "- `host_is_superhost` - whether or not the host is a superhost, which is a mark of quality for the top-rated and most experienced hosts, and can increase your search ranking on Airbnb\n",
    "\n",
    "- `host_listings_count` - how many listings the host has in total\n",
    "\n",
    "- `host_has_profile_pic` - whether or not the host has a profile picture\n",
    "\n",
    "- `host_identity_verified` - whether or not the host has been verified with his passport\n",
    "\n",
    "- `neighbourhood_cleansed` - the borough the property is in\n",
    "\n",
    "- `latitude` and `longitude` - geolocation coordinates of the property\n",
    "\n",
    "- `property_type` - type of property, e.g. house or flat\n",
    "\n",
    "- `room_type` - type of listing, e.g. entire home, private room or shared room\n",
    "\n",
    "- `accommodates` - how many people the property accommodates\n",
    "\n",
    "- `bedrooms` - number of bedrooms\n",
    "\n",
    "- `beds` - number of beds\n",
    "\n",
    "- `price` - nightly advertised price (the target variable)\n",
    "\n",
    "- `minimum_nights` - the minimum length of stay\n",
    "\n",
    "- `maximum_nights` - the maximum length of stay\n",
    "\n",
    "- `availability_30` - how many nights are available to be booked in the next 30 days\n",
    "\n",
    "- `availability_60` - how many nights are available to be booked in the next 60 days\n",
    "\n",
    "- `availability_90` - how many nights are available to be booked in the next 90 days\n",
    "\n",
    "- `availability_365` - how many nights are available to be booked in the next 365 days\n",
    "\n",
    "- `number_of_reviews` - the number of reviews left for the property\n",
    "\n",
    "- `number_of_reviews_ltm` - the number of reviews left for the property in the last twelve months\n",
    "\n",
    "- `first_review` - the date of the first review\n",
    "\n",
    "- `last_review` - the date of the most recent review\n",
    "\n",
    "- `review_scores_rating` - guests can score properties overall from 1 to 5 stars\n",
    "\n",
    "- `review_scores_accuracy` - guests can score the accuracy of a property's description from 1 to 5 stars\n",
    "\n",
    "- `review_scores_cleanliness` - guests can score a property's cleanliness from 1 to 5 stars\n",
    "\n",
    "- `review_scores_checkin` - guests can score their check-in from 1 to 5 stars\n",
    "\n",
    "- `review_scores_communication` - guests can score a host's communication from 1 to 5 stars\n",
    "\n",
    "- `review_scores_location` - guests can score a property's location from 1 to 5 stars\n",
    "\n",
    "- `review_scores_value` - guests can score a booking's value for money from 1 to 5 stars\n",
    "\n",
    "- `instant_bookable` - whether or not the property can be instant booked (i.e. booked straight away, without having to message the host first and wait to be accepted)\n",
    "\n",
    "- `reviews_per_month` - calculated field of the average number of reviews left by guest each month\n",
    "\n",
    "\n",
    "The next two cells load the `listings.csv` file into a dataframe. Once loaded, start working on the subsequent questions."
   ]
  },
  {
   "cell_type": "code",
   "execution_count": 4,
   "metadata": {
    "id": "K4zobPQJzKAX"
   },
   "outputs": [],
   "source": [
    "### DO NOT CHANGE THIS CELL\n",
    "def load_csv(basedir):\n",
    "  return pd.read_csv(os.path.join(basedir, 'listings.csv'))"
   ]
  },
  {
   "cell_type": "code",
   "execution_count": 5,
   "metadata": {
    "colab": {
     "base_uri": "https://localhost:8080/",
     "height": 581
    },
    "id": "73pNEQSv5_WZ",
    "outputId": "8f8c9c0b-f9eb-466e-e047-9e7e4d40dbbe"
   },
   "outputs": [],
   "source": [
    "### DO NOT CHANGE THIS CELL\n",
    "df = load_csv(basedir)\n",
    "#df.head()"
   ]
  },
  {
   "cell_type": "markdown",
   "metadata": {
    "id": "Pzc714QhKf3g"
   },
   "source": [
    "## Question 1a"
   ]
  },
  {
   "cell_type": "code",
   "execution_count": 6,
   "metadata": {
    "id": "8m6wSWKPJPLR"
   },
   "outputs": [],
   "source": [
    "# Do not rename the function, do not remove the return statement.\n",
    "# Just add code before the return statement to add the required functionality.\n",
    "\n",
    "def drop_cols(df):\n",
    "# ...\n",
    "    to_drop = ['scrape_id','last_scraped','description','listing_url',\\\n",
    "    'neighbourhood','calendar_last_scraped', 'amenities',\\\n",
    "    'neighborhood_overview', 'picture_url','host_url',\\\n",
    "    'host_about', 'host_location','host_total_listings_count',\\\n",
    "    'host_thumbnail_url','host_picture_url', 'host_verifications',\\\n",
    "    'bathrooms_text','has_availability','minimum_minimum_nights',\\\n",
    "    'maximum_minimum_nights','minimum_maximum_nights','maximum_maximum_nights',\\\n",
    "    'minimum_nights_avg_ntm','maximum_nights_avg_ntm','number_of_reviews_l30d',\\\n",
    "    'calculated_host_listings_count','calculated_host_listings_count_entire_homes',\\\n",
    "    'calculated_host_listings_count_private_rooms',\\\n",
    "    'calculated_host_listings_count_shared_rooms']\n",
    "    \n",
    "    df.drop(to_drop, inplace = True, axis = 1)\n",
    "\n",
    "    return df"
   ]
  },
  {
   "cell_type": "code",
   "execution_count": 7,
   "metadata": {
    "colab": {
     "base_uri": "https://localhost:8080/"
    },
    "id": "GpBDncpjFrDh",
    "outputId": "569c0e41-7392-43b4-a9ec-06aa9374b7a8"
   },
   "outputs": [
    {
     "data": {
      "text/plain": [
       "Index(['id', 'name', 'host_id', 'host_name', 'host_since',\n",
       "       'host_response_time', 'host_response_rate', 'host_acceptance_rate',\n",
       "       'host_is_superhost', 'host_neighbourhood', 'host_listings_count',\n",
       "       'host_has_profile_pic', 'host_identity_verified',\n",
       "       'neighbourhood_cleansed', 'neighbourhood_group_cleansed', 'latitude',\n",
       "       'longitude', 'property_type', 'room_type', 'accommodates', 'bathrooms',\n",
       "       'bedrooms', 'beds', 'price', 'minimum_nights', 'maximum_nights',\n",
       "       'calendar_updated', 'availability_30', 'availability_60',\n",
       "       'availability_90', 'availability_365', 'number_of_reviews',\n",
       "       'number_of_reviews_ltm', 'first_review', 'last_review',\n",
       "       'review_scores_rating', 'review_scores_accuracy',\n",
       "       'review_scores_cleanliness', 'review_scores_checkin',\n",
       "       'review_scores_communication', 'review_scores_location',\n",
       "       'review_scores_value', 'license', 'instant_bookable',\n",
       "       'reviews_per_month'],\n",
       "      dtype='object')"
      ]
     },
     "execution_count": 7,
     "metadata": {},
     "output_type": "execute_result"
    }
   ],
   "source": [
    "df = drop_cols(df)\n",
    "df.columns"
   ]
  },
  {
   "cell_type": "code",
   "execution_count": 8,
   "metadata": {
    "id": "JgsX31bPJLfc"
   },
   "outputs": [],
   "source": [
    "def drop_cols_na(df, threshold = 0.5):\n",
    "# ...\n",
    "    df.dropna(axis='columns', how='any', thresh= threshold, subset=None, inplace=True)\n",
    "\n",
    "    return df"
   ]
  },
  {
   "cell_type": "code",
   "execution_count": 9,
   "metadata": {
    "id": "y0DPwLXwSDGy"
   },
   "outputs": [],
   "source": [
    "df = drop_cols_na(df)"
   ]
  },
  {
   "cell_type": "markdown",
   "metadata": {
    "id": "y6SMYnVDKt1d"
   },
   "source": [
    "## Question 1b"
   ]
  },
  {
   "cell_type": "code",
   "execution_count": 10,
   "metadata": {},
   "outputs": [],
   "source": [
    "def binary_encoding(df):\n",
    "    \n",
    "    #boolean_cols = ['host_is_superhost', 'host_identity_verified',\\\n",
    "    #'has_availability', 'instant_bookable']\n",
    "    \n",
    "    boolean_cols = ['host_is_superhost', 'host_identity_verified', 'instant_bookable']\n",
    "    \n",
    "    for i in boolean_cols:\n",
    "        \n",
    "        df[i] = df[i].replace(to_replace = 't', value = 1)\n",
    "        df[i] = df[i].replace(to_replace = 'f', value = 0)\n",
    "\n",
    "    return df"
   ]
  },
  {
   "cell_type": "code",
   "execution_count": 11,
   "metadata": {
    "id": "aZ7BoRBhlbYV"
   },
   "outputs": [],
   "source": [
    "df = binary_encoding(df)"
   ]
  },
  {
   "cell_type": "code",
   "execution_count": 12,
   "metadata": {
    "id": "nKc_EqKdLDdV"
   },
   "outputs": [],
   "source": [
    "# hint: check Pandas to_datetime method\n",
    "# use column \"host_since\"\n",
    "\n",
    "def add_host_days(df):\n",
    "    df['host_since'] = pd.to_datetime(df['host_since'])\n",
    "    df['host_days'] = (pd.to_datetime('today') - df['host_since']).apply(lambda x: x.days)\n",
    "    \n",
    "    return df"
   ]
  },
  {
   "cell_type": "code",
   "execution_count": 13,
   "metadata": {
    "id": "1KNvK2SKLEcW"
   },
   "outputs": [],
   "source": [
    "def convert_price(df):\n",
    "\n",
    "    df['price'] = df['price'].apply(lambda x: float( x.replace('$','').replace(',','') ) )\n",
    "    \n",
    "    return df"
   ]
  },
  {
   "cell_type": "code",
   "execution_count": 14,
   "metadata": {
    "id": "MTGf_mt2iwwG"
   },
   "outputs": [],
   "source": [
    "df = add_host_days(df)\n",
    "df = convert_price(df)"
   ]
  },
  {
   "cell_type": "markdown",
   "metadata": {
    "id": "F1T-93iSQoXO"
   },
   "source": [
    "## Question 1c: Answering questions.\n",
    "\n",
    "You do not need to write the answer. In each cell, provide the Pandas code that outputs the result. Each answer can be given with 1-2 lines of Python code. Example question and answer:\n",
    "\n",
    "```python\n",
    "# What is the total number of rows in the dataframe?\n",
    "df.shape[0]\n",
    "```\n",
    "\n",
    "Now over to you:"
   ]
  },
  {
   "cell_type": "code",
   "execution_count": 15,
   "metadata": {
    "colab": {
     "base_uri": "https://localhost:8080/"
    },
    "id": "gM3BRpVlni7z",
    "outputId": "627f63ee-841f-4a33-d42b-d68592613e26"
   },
   "outputs": [
    {
     "data": {
      "text/plain": [
       "1331"
      ]
     },
     "execution_count": 15,
     "metadata": {},
     "output_type": "execute_result"
    }
   ],
   "source": [
    "# How many hosts offer 2 or more properties for rent?\n",
    "\n",
    "df_q1 = df.groupby('host_id')['id'].count()\n",
    "\n",
    "len(df_q1[df_q1.values >= 2])\n"
   ]
  },
  {
   "cell_type": "code",
   "execution_count": 16,
   "metadata": {
    "colab": {
     "base_uri": "https://localhost:8080/"
    },
    "id": "angGfYJxpOJ5",
    "outputId": "9a71425f-c1fc-4e46-d100-b4acb3729fbe"
   },
   "outputs": [
    {
     "data": {
      "text/plain": [
       "8000.0"
      ]
     },
     "execution_count": 16,
     "metadata": {},
     "output_type": "execute_result"
    }
   ],
   "source": [
    "# What is the highest price for a listing?\n",
    "\n",
    "max(df['price'])\n"
   ]
  },
  {
   "cell_type": "code",
   "execution_count": 17,
   "metadata": {
    "colab": {
     "base_uri": "https://localhost:8080/"
    },
    "id": "WRiPS2fypnz3",
    "outputId": "02a948d4-3afc-414a-e188-4e0bdfa88fa4"
   },
   "outputs": [
    {
     "data": {
      "text/plain": [
       "46015289"
      ]
     },
     "execution_count": 17,
     "metadata": {},
     "output_type": "execute_result"
    }
   ],
   "source": [
    "# What is the ID of the listing that has the largest number of bedrooms?\n",
    "\n",
    "df.iloc[df['bedrooms'].idxmax()]['id']"
   ]
  },
  {
   "cell_type": "code",
   "execution_count": 18,
   "metadata": {
    "colab": {
     "base_uri": "https://localhost:8080/"
    },
    "id": "eu1cSceDnsM4",
    "outputId": "c5253373-ffd4-4fea-e8c2-9f42318492b7"
   },
   "outputs": [
    {
     "data": {
      "text/plain": [
       "258273"
      ]
     },
     "execution_count": 18,
     "metadata": {},
     "output_type": "execute_result"
    }
   ],
   "source": [
    "# What is the ID of the listing with the largest advertised price\n",
    "\n",
    "df.iloc[df['price'].idxmax()]['id']"
   ]
  },
  {
   "cell_type": "code",
   "execution_count": 19,
   "metadata": {
    "colab": {
     "base_uri": "https://localhost:8080/"
    },
    "id": "ZhzBksbCumZB",
    "outputId": "8f5c2b6f-bddd-4115-faa7-c672a7c67ac9"
   },
   "outputs": [
    {
     "data": {
      "text/plain": [
       "14433"
      ]
     },
     "execution_count": 19,
     "metadata": {},
     "output_type": "execute_result"
    }
   ],
   "source": [
    "# There are different room types. How many listings are there for the most common room type?\n",
    "\n",
    "# df.groupby('room_type')['id'].count().sort_values(ascending = False)\n",
    "df.groupby('room_type')['id'].count().max()"
   ]
  },
  {
   "cell_type": "code",
   "execution_count": 20,
   "metadata": {
    "colab": {
     "base_uri": "https://localhost:8080/"
    },
    "id": "clsRn8tEVw4a",
    "outputId": "99cd1a0f-12e9-46d3-e1db-83da28ef8c85"
   },
   "outputs": [
    {
     "data": {
      "text/plain": [
       "2313"
      ]
     },
     "execution_count": 20,
     "metadata": {},
     "output_type": "execute_result"
    }
   ],
   "source": [
    "# How many hosts are there that have been registered for more than 3000 days?\n",
    "\n",
    "len(df[df['host_days'] > 3000]['host_id'].unique())"
   ]
  },
  {
   "cell_type": "markdown",
   "metadata": {
    "id": "_a4I7y_FsVI0"
   },
   "source": [
    "## Question 1d: Exploratory analyses"
   ]
  },
  {
   "cell_type": "markdown",
   "metadata": {
    "id": "IcA5tI8ftsFS"
   },
   "source": [
    "Produce a barplot of the average nightly price per neighbourhood as instructed in the Coursework proforma:"
   ]
  },
  {
   "cell_type": "code",
   "execution_count": 21,
   "metadata": {},
   "outputs": [
    {
     "data": {
      "text/plain": [
       "Text(0.5, 1.0, 'Average price per neighbourhood')"
      ]
     },
     "execution_count": 21,
     "metadata": {},
     "output_type": "execute_result"
    },
    {
     "data": {
      "image/png": "[encoded data removed]",
      "text/plain": [
       "<Figure size 864x576 with 1 Axes>"
      ]
     },
     "metadata": {
      "needs_background": "light"
     },
     "output_type": "display_data"
    }
   ],
   "source": [
    "# your code...\n",
    "# Horizontal barplot\n",
    "\n",
    "fig, ax = plt.subplots(figsize=(12, 8))\n",
    "\n",
    "bar = sns.barplot(data = df, y = 'neighbourhood_cleansed', x = 'price', estimator = np.mean)\n",
    "\n",
    "#ax.set_xticklabels(set(df.neighbourhood_cleansed), rotation = 90)\n",
    "\n",
    "plt.xlabel('Average price')\n",
    "plt.ylabel('Neighbourhood')\n",
    "plt.title('Average price per neighbourhood')"
   ]
  },
  {
   "cell_type": "markdown",
   "metadata": {
    "id": "834GVr84yfAA"
   },
   "source": [
    "Plot a correlation matrix as instructed in the Coursework proforma:"
   ]
  },
  {
   "cell_type": "code",
   "execution_count": 22,
   "metadata": {
    "id": "fvS5_JdIFQbG"
   },
   "outputs": [
    {
     "name": "stderr",
     "output_type": "stream",
     "text": [
      "C:\\Users\\c21015647\\Anaconda3\\lib\\site-packages\\pandas\\core\\frame.py:4296: SettingWithCopyWarning: \n",
      "A value is trying to be set on a copy of a slice from a DataFrame\n",
      "\n",
      "See the caveats in the documentation: https://pandas.pydata.org/pandas-docs/stable/user_guide/indexing.html#returning-a-view-versus-a-copy\n",
      "  return super().rename(\n"
     ]
    },
    {
     "data": {
      "text/plain": [
       "<AxesSubplot:>"
      ]
     },
     "execution_count": 22,
     "metadata": {},
     "output_type": "execute_result"
    },
    {
     "data": {
      "image/png": "[encoded data removed]",
      "text/plain": [
       "<Figure size 432x288 with 2 Axes>"
      ]
     },
     "metadata": {
      "needs_background": "light"
     },
     "output_type": "display_data"
    }
   ],
   "source": [
    "# your code...\n",
    "\n",
    "\n",
    "# Prepare dataframe to plot\n",
    "\n",
    "df_plot_2 = df[['review_scores_cleanliness', \n",
    "                'review_scores_checkin', \n",
    "                'review_scores_communication', \n",
    "                'review_scores_location', \n",
    "                'review_scores_value']]\n",
    "\n",
    "renamed_columns = { i : i.split('_')[2] for i in df_plot_2.columns}\n",
    "\n",
    "df_plot_2.rename(columns= renamed_columns, inplace = True)\n",
    "\n",
    "\n",
    "# Correlation matrix and heatmap\n",
    "\n",
    "C = df_plot_2.corr()\n",
    "\n",
    "sns.heatmap(C, cmap=\"viridis\")\n"
   ]
  },
  {
   "cell_type": "markdown",
   "metadata": {
    "id": "834GVr84yfAA"
   },
   "source": [
    "Plot a geographical distribution as instructed in the Coursework proforma:"
   ]
  },
  {
   "cell_type": "code",
   "execution_count": 14,
   "metadata": {
    "id": "qbTja8fwFScc"
   },
   "outputs": [
    {
     "data": {
      "text/plain": [
       "<matplotlib.legend.Legend at 0x22cd0b68cd0>"
      ]
     },
     "execution_count": 14,
     "metadata": {},
     "output_type": "execute_result"
    },
    {
     "data": {
      "image/png": "[encoded data removed]",
      "text/plain": [
       "<Figure size 576x576 with 1 Axes>"
      ]
     },
     "metadata": {
      "needs_background": "light"
     },
     "output_type": "display_data"
    }
   ],
   "source": [
    "# your code...\n",
    "\n",
    "df_plot_3 = df[df['price']>150][['price', 'latitude', 'longitude']]\n",
    "\n",
    "\n",
    "\n",
    "fig, ax = plt.subplots(figsize=(8, 8))\n",
    "\n",
    "sns.scatterplot(data=df_plot_3, x=\"longitude\", y=\"latitude\", hue = \"price\", size=\"price\", palette=\"Spectral\", sizes=(10, 200))\n",
    "\n",
    "plt.legend(bbox_to_anchor=(1, 0.65), frameon = False)\n"
   ]
  },
  {
   "cell_type": "markdown",
   "metadata": {
    "id": "0dLbkYk6y9eF"
   },
   "source": [
    "---\n",
    "\n",
    "# Part 2: Statistical analysis and recommender system\n",
    "## CMT 309 Data Science Portfolio\n",
    "\n",
    "Instructions:\n",
    "\n",
    "- Answer the questions by filling in the appropriate sections. \n",
    "- Do not remove or rename section headings or any code that has been provided, unless instructed otherwise.\n",
    "- You can add as many additional cells with code as you like.\n",
    "- Sometimes you are asked to provide an answer or justification. To this end, double-click on the text cells and add your answer/explanation following the text \"YOUR ANSWER:\".\n",
    "\n",
    "Before submitting,\n",
    "\n",
    "- Ensure that the code is clean, readable, and well documented. \n",
    "- Restart the kernel (to wipe all variables) and then run the code from top to bottom to produce all intermediate outputs. "
   ]
  },
  {
   "cell_type": "markdown",
   "metadata": {
    "id": "jtpZraSiE00A"
   },
   "source": [
    "## Question 2a: Linear regression and t-tests\n"
   ]
  },
  {
   "cell_type": "code",
   "execution_count": 42,
   "metadata": {
    "id": "RDCTzGiooPDJ"
   },
   "outputs": [
    {
     "name": "stdout",
     "output_type": "stream",
     "text": [
      "                            OLS Regression Results                            \n",
      "==============================================================================\n",
      "Dep. Variable:                 rating   R-squared:                       0.726\n",
      "Model:                            OLS   Adj. R-squared:                  0.726\n",
      "Method:                 Least Squares   F-statistic:                     7008.\n",
      "Date:                Mon, 10 May 2021   Prob (F-statistic):               0.00\n",
      "Time:                        20:27:53   Log-Likelihood:                -42957.\n",
      "No. Observations:               15880   AIC:                         8.593e+04\n",
      "Df Residuals:                   15873   BIC:                         8.598e+04\n",
      "Df Model:                           6                                         \n",
      "Covariance Type:            nonrobust                                         \n",
      "=================================================================================\n",
      "                    coef    std err          t      P>|t|      [0.025      0.975]\n",
      "---------------------------------------------------------------------------------\n",
      "Intercept        -0.3169      0.550     -0.577      0.564      -1.394       0.760\n",
      "accuracy          2.6153      0.056     46.889      0.000       2.506       2.725\n",
      "cleanliness       2.1438      0.041     52.279      0.000       2.063       2.224\n",
      "checkin           1.0232      0.060     16.913      0.000       0.905       1.142\n",
      "communication     1.8090      0.066     27.490      0.000       1.680       1.938\n",
      "location          0.3988      0.045      8.858      0.000       0.311       0.487\n",
      "value             1.9905      0.047     42.354      0.000       1.898       2.083\n",
      "==============================================================================\n",
      "Omnibus:                     4769.894   Durbin-Watson:                   1.991\n",
      "Prob(Omnibus):                  0.000   Jarque-Bera (JB):            90176.958\n",
      "Skew:                          -0.965   Prob(JB):                         0.00\n",
      "Kurtosis:                      14.514   Cond. No.                         450.\n",
      "==============================================================================\n",
      "\n",
      "Warnings:\n",
      "[1] Standard Errors assume that the covariance matrix of the errors is correctly specified.\n"
     ]
    }
   ],
   "source": [
    "# your linear regression code...\n",
    "\n",
    "df_2a = df[['review_scores_rating',\n",
    "            'review_scores_accuracy',\n",
    "            'review_scores_cleanliness', \n",
    "            'review_scores_checkin', \n",
    "            'review_scores_communication', \n",
    "            'review_scores_location', \n",
    "            'review_scores_value']]\n",
    "\n",
    "renamed_columns_2a = { i : i.split('_')[2] for i in df_2a.columns}\n",
    "\n",
    "df_2a.rename(columns= renamed_columns_2a, inplace = True)\n",
    "\n",
    "\n",
    "fit_2a = sm.OLS.from_formula('rating ~ accuracy + cleanliness + checkin + communication + location + value', df_2a).fit()\n",
    "print(fit_2a.summary())\n"
   ]
  },
  {
   "cell_type": "markdown",
   "metadata": {
    "id": "i9Lalo7srWMr"
   },
   "source": [
    "**T-test questions**:\n",
    "\n",
    "Which room types are significantly different in terms of nightly price?\n",
    "\n",
    "YOUR ANSWER (1-2 sentences): ...[double click to edit]...\n",
    "\n",
    "Do the significances change if you perform Bonferroni correction to the alpha level: https://en.wikipedia.org/wiki/Bonferroni_correction ?\n",
    "\n",
    "YOUR ANSWER (1-2 sentences): ...\n",
    "Need to change the significance level to alpha/num_of_hypothesis\n"
   ]
  },
  {
   "cell_type": "code",
   "execution_count": 43,
   "metadata": {},
   "outputs": [],
   "source": [
    "# your t-test code...\n",
    "\n",
    "def RoomTypeTtest(a, b, i_df = df, i_column = 'price', i_category = 'room_type'):\n",
    "    \n",
    "    '''\n",
    "    Given a dataframe (df), returns the p.value generated from a t-test involving two different categories for a certain column\n",
    "    \n",
    "    \n",
    "    a, b : Categories to be compared\n",
    "    \n",
    "    i_df : Dataframe containing source data\n",
    "    \n",
    "    i_column : Column containing all values to feed the t-test, from mixed categories\n",
    "    \n",
    "    i_category : Column containing all category values from each df entry\n",
    "    \n",
    "    \n",
    "    '''\n",
    "    \n",
    "    return ttest_ind(i_df[i_df[i_category] == a][i_column], i_df[i_df[i_category] == b][i_column]).pvalue\n",
    "\n",
    "\n",
    "room_types = df['room_type'].unique()\n",
    "df_pval = pd.DataFrame(data = [], columns = room_types, index = room_types) # Creates an empty matrix to place t-test results\n",
    "\n",
    "for col in df_pval.columns:\n",
    "    #df_pval[col] = [ttest_ind(df[df['room_type'] == col]['price'], df[df['room_type'] == x]['price']).pvalue for x in df_pval.columns]\n",
    "    df_pval[col] = [RoomTypeTtest(col, x) if (col != x) else None for x in df_pval.columns]"
   ]
  },
  {
   "cell_type": "code",
   "execution_count": 44,
   "metadata": {},
   "outputs": [
    {
     "data": {
      "text/html": [
       "<div>\n",
       "<style scoped>\n",
       "    .dataframe tbody tr th:only-of-type {\n",
       "        vertical-align: middle;\n",
       "    }\n",
       "\n",
       "    .dataframe tbody tr th {\n",
       "        vertical-align: top;\n",
       "    }\n",
       "\n",
       "    .dataframe thead th {\n",
       "        text-align: right;\n",
       "    }\n",
       "</style>\n",
       "<table border=\"1\" class=\"dataframe\">\n",
       "  <thead>\n",
       "    <tr style=\"text-align: right;\">\n",
       "      <th></th>\n",
       "      <th>Private room</th>\n",
       "      <th>Entire home/apt</th>\n",
       "      <th>Hotel room</th>\n",
       "      <th>Shared room</th>\n",
       "    </tr>\n",
       "  </thead>\n",
       "  <tbody>\n",
       "    <tr>\n",
       "      <td>Private room</td>\n",
       "      <td>NaN</td>\n",
       "      <td>3.624982e-184</td>\n",
       "      <td>0.000060</td>\n",
       "      <td>0.451693</td>\n",
       "    </tr>\n",
       "    <tr>\n",
       "      <td>Entire home/apt</td>\n",
       "      <td>3.624982e-184</td>\n",
       "      <td>NaN</td>\n",
       "      <td>0.002929</td>\n",
       "      <td>0.002177</td>\n",
       "    </tr>\n",
       "    <tr>\n",
       "      <td>Hotel room</td>\n",
       "      <td>5.966552e-05</td>\n",
       "      <td>2.929221e-03</td>\n",
       "      <td>NaN</td>\n",
       "      <td>0.312119</td>\n",
       "    </tr>\n",
       "    <tr>\n",
       "      <td>Shared room</td>\n",
       "      <td>4.516929e-01</td>\n",
       "      <td>2.176832e-03</td>\n",
       "      <td>0.312119</td>\n",
       "      <td>NaN</td>\n",
       "    </tr>\n",
       "  </tbody>\n",
       "</table>\n",
       "</div>"
      ],
      "text/plain": [
       "                  Private room  Entire home/apt  Hotel room  Shared room\n",
       "Private room               NaN    3.624982e-184    0.000060     0.451693\n",
       "Entire home/apt  3.624982e-184              NaN    0.002929     0.002177\n",
       "Hotel room        5.966552e-05     2.929221e-03         NaN     0.312119\n",
       "Shared room       4.516929e-01     2.176832e-03    0.312119          NaN"
      ]
     },
     "execution_count": 44,
     "metadata": {},
     "output_type": "execute_result"
    }
   ],
   "source": [
    "df_pval"
   ]
  },
  {
   "cell_type": "code",
   "execution_count": 45,
   "metadata": {},
   "outputs": [
    {
     "data": {
      "text/html": [
       "<div>\n",
       "<style scoped>\n",
       "    .dataframe tbody tr th:only-of-type {\n",
       "        vertical-align: middle;\n",
       "    }\n",
       "\n",
       "    .dataframe tbody tr th {\n",
       "        vertical-align: top;\n",
       "    }\n",
       "\n",
       "    .dataframe thead th {\n",
       "        text-align: right;\n",
       "    }\n",
       "</style>\n",
       "<table border=\"1\" class=\"dataframe\">\n",
       "  <thead>\n",
       "    <tr style=\"text-align: right;\">\n",
       "      <th></th>\n",
       "      <th>Private room</th>\n",
       "      <th>Entire home/apt</th>\n",
       "      <th>Hotel room</th>\n",
       "      <th>Shared room</th>\n",
       "    </tr>\n",
       "  </thead>\n",
       "  <tbody>\n",
       "    <tr>\n",
       "      <td>Private room</td>\n",
       "      <td>NaN</td>\n",
       "      <td>3.624982e-184</td>\n",
       "      <td>0.000060</td>\n",
       "      <td>NaN</td>\n",
       "    </tr>\n",
       "    <tr>\n",
       "      <td>Entire home/apt</td>\n",
       "      <td>3.624982e-184</td>\n",
       "      <td>NaN</td>\n",
       "      <td>0.002929</td>\n",
       "      <td>0.002177</td>\n",
       "    </tr>\n",
       "    <tr>\n",
       "      <td>Hotel room</td>\n",
       "      <td>5.966552e-05</td>\n",
       "      <td>2.929221e-03</td>\n",
       "      <td>NaN</td>\n",
       "      <td>NaN</td>\n",
       "    </tr>\n",
       "    <tr>\n",
       "      <td>Shared room</td>\n",
       "      <td>NaN</td>\n",
       "      <td>2.176832e-03</td>\n",
       "      <td>NaN</td>\n",
       "      <td>NaN</td>\n",
       "    </tr>\n",
       "  </tbody>\n",
       "</table>\n",
       "</div>"
      ],
      "text/plain": [
       "                  Private room  Entire home/apt  Hotel room  Shared room\n",
       "Private room               NaN    3.624982e-184    0.000060          NaN\n",
       "Entire home/apt  3.624982e-184              NaN    0.002929     0.002177\n",
       "Hotel room        5.966552e-05     2.929221e-03         NaN          NaN\n",
       "Shared room                NaN     2.176832e-03         NaN          NaN"
      ]
     },
     "execution_count": 45,
     "metadata": {},
     "output_type": "execute_result"
    }
   ],
   "source": [
    "df_pval[df_pval<0.01]"
   ]
  },
  {
   "cell_type": "markdown",
   "metadata": {
    "id": "t8mwnrOhboSC"
   },
   "source": [
    "## Question 2b: Linear regression with variable selection"
   ]
  },
  {
   "cell_type": "markdown",
   "metadata": {
    "id": "Z5aMn9YWrNnI"
   },
   "source": [
    "Provide a short justification (2-3 sentences) for your choice of variables.\n",
    "\n",
    "YOUR ANSWER: ..."
   ]
  },
  {
   "cell_type": "markdown",
   "metadata": {},
   "source": [
    "In this question you investigate how well nightly price can be predicted from the other \n",
    "variables in the dataframe. You need to decide yourself which variables to choose, but make \n",
    "sure you have at least 10 variables. The only requirement is that you use room_type as a \n",
    "predictor. Because room_type is a categorical variable, you first have to use dummy coding \n",
    "to turn it into a number of binary variables (hint: pd.get_dummies()). In the notebook, \n",
    "provide a short explanation for your choice of variables.\n",
    "Starting from the variables you have chosen, our goal is to derive a sparse model with fewer \n",
    "variables. This process is called variable selection. In variable selection (‘variable’ means the \n",
    "same as ‘predictor’), variables get iteratively added or removed from the regression model. \n",
    "Once finished, the model typically contains only a subset of the original variables. It makes it \n",
    "easier to interpret the model, and in some cases it makes it generalise better to new data. To \n",
    "perform variable selection, implement a function variable_selection(df, predictors, target, alpha)\n",
    "where df is the listings dataframe, predictors is a list with your initial selection of at least \n",
    "10 variables (e.g. [‘bedrooms’, ‘beds’, …]), target is the target variable for the regression \n",
    "(e.g. ‘price’), and alpha is the significance level for selecting significant predictors (e.g. \n",
    "0.05). The function returns pred, the selected subset of the original predictors.\n",
    "To calculate regression fits and p-values you can use statsmodels. Your approach operates \n",
    "in two stages: In stage 1, you build a model by adding variables one after the other. You keep \n",
    "adding variables that increase the adjusted R2\n",
    "coefficient. You do not need to calculate it by \n",
    "hand, it is provided by statsmodels package. In stage 2, starting from these variables, if any \n",
    "of them are not significant, you keep removing variables until all variables in the model are \n",
    "significant. The output of the second stage is your final set of variables. Let us look at the two \n",
    "stages in detail:\n",
    "\n",
    "\n",
    "Stage 1 (add variables) [8 marks]\n",
    "• Start with an empty set of variables\n",
    "• Fit multiple one-variable regression models. In each iteration, use one of the variables \n",
    "provided in predictors. The variable that leads to the largest increase in adjusted R2\n",
    "is added to the model.\n",
    "• Now proceed by adding a second variable into the model. Starting from the remaining \n",
    "variables, again choose the variable that leads to the largest increase in adjusted R2\n",
    ". \n",
    "• Continue in the same way for the third, fourth, … variable.\n",
    "• You are finished when there is no variable left that increases adjusted R2\n",
    ".\n",
    "\n",
    "\n",
    "Stage 2 (remove non-significant variables) [7 marks]\n",
    "It is possible that some of the variables from the previous stage are not significant. We call a \n",
    "variable \"significant\" if the p-value of its coefficient is smaller or equal to the given \n",
    "threshold alpha.\n",
    "• Start by fitting a model using the variables that have been added to the model in Stage 1.\n",
    "• If there is a variable that is not significant, remove the variable with the largest p-value \n",
    "and fit the model again with the reduced set of variables.\n",
    "• Keep removing variables and re-fitting the model until all remaining variables are \n",
    "significant.\n",
    "• The remaining significant variables are the output of your function.\n",
    "To solve this question, provide corresponding code in Question 2b in the notebook and \n",
    "provide a short answer in the space following YOUR ANSWER. To test your function, add a \n",
    "function call with your selection of predictors and alpha level."
   ]
  },
  {
   "cell_type": "code",
   "execution_count": 56,
   "metadata": {},
   "outputs": [],
   "source": [
    "# your code...\n",
    "\n",
    "# GET DUMMIES\n",
    "\n",
    "for col in pd.get_dummies(df.room_type).columns:\n",
    "    colname = col.replace(' ','_').replace('/','_')\n",
    "    df[colname] = pd.get_dummies(df.room_type)[col]\n",
    "    "
   ]
  },
  {
   "cell_type": "code",
   "execution_count": 57,
   "metadata": {
    "id": "FWj8vwcLFIUL"
   },
   "outputs": [],
   "source": [
    "# your code...\n",
    "\n",
    "def variable_selection(df, predictors, target, alpha):\n",
    "    \n",
    "    \n",
    "    # STAGE 1\n",
    "    \n",
    "    \n",
    "    # This list collects successful candidates that increase the Rsquare value, from PREDICTORS.\n",
    "    vars = ['Entire_home_apt', 'Hotel_room', 'Private_room', 'Shared_room']\n",
    "    \n",
    "    # Copy PREDICTOR list to avoid deleteing predictors from the original input predictor list.\n",
    "    candidates = predictors \n",
    "    \n",
    "    \n",
    "    '''\n",
    "    GetRsquare(x)\n",
    "    \n",
    "    Lambda function to calculate the rsquare value. This is to make the code easier to read.\n",
    "    Inhereited parameters from outter function: df, target\n",
    "    \n",
    "    x : List of predictors\n",
    "    \n",
    "    '''\n",
    "    GetRsquare = lambda x : sm.OLS.from_formula(target + ' ~ ' + ' + '.join(x), df).fit().rsquared\n",
    "    \n",
    "    \n",
    "    # Calculate initial rsquare value using the room_type predictor\n",
    "    current_rsquare = GetRsquare(vars)\n",
    "    \n",
    "    \n",
    "    while len(candidates) > 0:\n",
    "         \n",
    "        evaluations = [GetRsquare(vars + [candidate]) for candidate in candidates]\n",
    "        \n",
    "        max_rsquare_idx = evaluations.index(max(evaluations))\n",
    "        \n",
    "        best_candidate = candidates[max_rsquare_idx]\n",
    "                    \n",
    "        \n",
    "        if GetRsquare(vars + [best_candidate]) > current_rsquare:\n",
    "\n",
    "            vars.append(best_candidate)\n",
    "            current_rsquare = GetRsquare(vars)\n",
    "                     \n",
    "        candidates.remove(best_candidate)\n",
    "\n",
    "    print('candidates stage1: ', candidates)\n",
    "    print('vars stage1: ', vars)\n",
    "    \n",
    "    \n",
    "    # STAGE 2\n",
    "    \n",
    "    \n",
    "    model = sm.OLS.from_formula(target + ' ~ ' + ' + '.join(vars), df).fit()\n",
    "    pval_bool_check = [x > alpha for x in model.pvalues[1:]]\n",
    "    \n",
    "    print('model: ', model)\n",
    "    print('boolcheck', pval_bool_check)\n",
    "        \n",
    "    while any(pval_bool_check):\n",
    "    \n",
    "        discarded = model.pvalues[1:][model.pvalues[1:] == max(model.pvalues[1:])].index[0]\n",
    "        \n",
    "        print('discarded: ', discarded)\n",
    "        print('type discarded: ', type(discarded))\n",
    "        \n",
    "        vars.remove(discarded)\n",
    "             \n",
    "        model = sm.OLS.from_formula(target + ' ~ ' + ' + '.join(vars), df).fit()\n",
    "        pval_bool_check = [x > alpha for x in model.pvalues]\n",
    "    \n",
    "    \n",
    "    return vars\n",
    "        "
   ]
  },
  {
   "cell_type": "code",
   "execution_count": 59,
   "metadata": {},
   "outputs": [
    {
     "name": "stdout",
     "output_type": "stream",
     "text": [
      "candidates stage1:  []\n",
      "vars stage1:  ['Entire_home_apt', 'Hotel_room', 'Private_room', 'Shared_room', 'accommodates', 'review_scores_location', 'bedrooms', 'review_scores_value', 'review_scores_cleanliness', 'review_scores_communication', 'review_scores_rating', 'review_scores_checkin', 'review_scores_accuracy']\n",
      "model:  <statsmodels.regression.linear_model.RegressionResultsWrapper object at 0x000001D00A4D3408>\n",
      "boolcheck [False, True, False, True, False, False, False, False, False, False, False, False, True]\n",
      "discarded:  Hotel_room\n",
      "type discarded:  <class 'str'>\n",
      "discarded:  Entire_home_apt\n",
      "type discarded:  <class 'str'>\n",
      "discarded:  review_scores_accuracy\n",
      "type discarded:  <class 'str'>\n",
      "discarded:  review_scores_checkin\n",
      "type discarded:  <class 'str'>\n"
     ]
    },
    {
     "data": {
      "text/plain": [
       "['Private_room',\n",
       " 'Shared_room',\n",
       " 'accommodates',\n",
       " 'review_scores_location',\n",
       " 'bedrooms',\n",
       " 'review_scores_value',\n",
       " 'review_scores_cleanliness',\n",
       " 'review_scores_communication',\n",
       " 'review_scores_rating']"
      ]
     },
     "execution_count": 59,
     "metadata": {},
     "output_type": "execute_result"
    }
   ],
   "source": [
    "predictors = ['accommodates', \n",
    "            'bedrooms',\n",
    "            'beds',\n",
    "            'review_scores_rating',\n",
    "            'review_scores_accuracy',\n",
    "            'review_scores_cleanliness', \n",
    "            'review_scores_checkin', \n",
    "            'review_scores_communication', \n",
    "            'review_scores_location', \n",
    "            'review_scores_value']\n",
    "\n",
    "\n",
    "target = 'price'\n",
    "alpha = 0.05\n",
    "\n",
    "variable_selection(df, predictors, target, alpha)"
   ]
  },
  {
   "cell_type": "markdown",
   "metadata": {
    "id": "lzz5uexvkgil"
   },
   "source": [
    "## Question 2c: Recommendation systems"
   ]
  },
  {
   "cell_type": "markdown",
   "metadata": {
    "id": "uW-LealN0kOU"
   },
   "source": [
    "### Recommend a neighbourhood given a budget\n",
    "\n",
    "There have been requests from customers to provide automated recommendations. First, guests requested a recommender system that helps them identifying neighbourhoods in a city that fit their budget. Second, hosts who want to offer new listings would like a recommender system that suggests a nightly price. As a response to this request, you and your team have worked out specifications for two recommender systems.\n",
    "\n",
    "\n",
    "Recommender system 1: Recommend a neighbourhood given a budget [6 marks]\n",
    "\n",
    "Guests who are traveling on a budget have been requesting a tool that allows them to quickly see which neighbourhood in a city offers most accommodation opportunities within their budget bracket. You want to implement a Python function that delivers this functionality. The plan is to integrate the Python function into the Airbnb website. After some deliberation, you work out that the function should meet these specifications:\n",
    "\n",
    "\n",
    "• The user should be able to specify their budget bracket, that is, a minimum and maximum budget. For instance, a user might look for properties priced in the $10-$50 range. Another user looking for luxury accommodation may opt for a $100-$500 range.\n",
    "\n",
    "• Your function identifies which neighbourhood has the largest number of properties within this range. It returns a string representing the name of the neighbourhood. Use the neighbourhood_cleansed variable for the names of the neighbourhoods.\n",
    "\n",
    "• Some neighbourhoods have more properties than others, so by considering only absolute numbers neighbourhoods with more properties could always be preferred by your algorithm. An alternative is to consider relative numbers, that is, the proportion of listings within the budget bracket relative to the total number of listings within a given neighbourhood. The user should be able to select whether they want absolute or relative numbers.\n",
    "\n",
    "\n",
    "From these specifications, you arrive at the following function signature:\n",
    "\n",
    "\n",
    "recommend_neighbourhood(df, budget_min, budget_max, relative)\n",
    "\n",
    "\n",
    "with df being your listings dataframe, the variables budget_min and budget_max being floating point numbers representing the budget bracket. The numbers are inclusive, i.e., a nightly price exactly equal to budget_min or budget_max is considered, too. The variable relative is a Boolean specifying whether relative numbers (fractions) should be considered in the recommendation. If False, absolute numbers are considered instead. \n"
   ]
  },
  {
   "cell_type": "code",
   "execution_count": 159,
   "metadata": {
    "id": "DqUlxeDk4Hww"
   },
   "outputs": [
    {
     "name": "stdout",
     "output_type": "stream",
     "text": [
      "df_budget INDEX:  Int64Index([7, 8, 5, 20, 4, 17, 21, 2, 14, 16, 19, 18, 11, 13, 12, 3, 10, 6,\n",
      "            15, 9, 0, 1],\n",
      "           dtype='int64')\n",
      "df_budget:       neighbourhood_cleansed  properties_budget\n",
      "7    De Baarsjes - Oud-West               2382\n",
      "8   De Pijp - Rivierenbuurt               1671\n",
      "5              Centrum-West               1353\n",
      "20               Westerpark               1097\n",
      "4              Centrum-Oost               1076\n"
     ]
    },
    {
     "data": {
      "text/plain": [
       "'De Baarsjes - Oud-West'"
      ]
     },
     "execution_count": 159,
     "metadata": {},
     "output_type": "execute_result"
    }
   ],
   "source": [
    "# your code...\n",
    "\n",
    "def recommend_neighbourhood(df, budget_min, budget_max, relative = False):\n",
    "    \n",
    "    # Filter the df according to given budget, also keep columns of interest\n",
    "    df_budget = df[ (df['price'] > budget_min) & (df['price'] < budget_max) ][['id', 'neighbourhood_cleansed']]\n",
    "    \n",
    "    # Calculate number of properties per neighbourhood\n",
    "    df_budget = df_budget.groupby('neighbourhood_cleansed').count().reset_index().sort_values(by=['id'], ascending = False)\n",
    "    \n",
    "    # Rename calculated column\n",
    "    df_budget = df_budget.rename(columns={\"id\": \"properties_budget\"})\n",
    "    \n",
    "    \n",
    "    \n",
    "    if relative:\n",
    "        \n",
    "        # Keep columns of interest\n",
    "        df_all_properties = df[['id', 'neighbourhood_cleansed']]\n",
    "        \n",
    "        # Calculate number of properties per neighbourhood\n",
    "        df_all_properties = df_all_properties.groupby('neighbourhood_cleansed').count().reset_index().sort_values(by=['id'], ascending = False)\n",
    "        \n",
    "        # Rename calculated column\n",
    "        df_all_properties = df_all_properties.rename(columns={\"id\": \"all_properties\"})\n",
    "        \n",
    "        \n",
    "        # We use pd.merge method because we have reset the index during groupby operation, therefore we specify column to join:\n",
    "        \n",
    "        df_join = pd.merge(df_all_properties, df_budget, on='neighbourhood_cleansed')\n",
    "        #df_join = df_all_properties.join(df_budget, how='inner') # If we don't reset the index, we can use .join instead ('neighbourhood_cleansed' woul be the index)\n",
    "              \n",
    "            \n",
    "        # Calculate the relative number of available properties based on the above\n",
    "        df_join['ratio'] = df_join['properties_budget']/df_join['all_properties']\n",
    "        \n",
    "        \n",
    "        # DEBUGGING\n",
    "        print('df_budget INDEX: ', df_budget.index)\n",
    "        print('df_budget: ', df_budget.head())\n",
    "        \n",
    "        print('df_all_properties INDEX: ', df_all_properties.index)\n",
    "        print('df_all_properties: ', df_all_properties.head())\n",
    "        \n",
    "        print('df_join: INDEX', df_join.index)\n",
    "        print('df_join: ', df_join.head())\n",
    "        \n",
    "        \n",
    "        \n",
    "        # return df_join[df_join['ratio'] == max(df_join['ratio'])].index[0]\n",
    "        return df_join.loc[df_join['ratio'].idxmax(), 'neighbourhood_cleansed']\n",
    "    \n",
    "    \n",
    "    print('df_budget INDEX: ', df_budget.index)\n",
    "    print('df_budget: ', df_budget.head())\n",
    "    \n",
    "    \n",
    "    # return df_budget[df_budget['properties_budget'] == max(df_budget['properties_budget'])].index[0]\n",
    "    return df_budget.loc[df_budget['properties_budget'].idxmax(),'neighbourhood_cleansed'] \n",
    "        \n",
    "    \n",
    "    \n",
    "recommend_neighbourhood(df, 50, 200, relative = False)   \n",
    "    "
   ]
  },
  {
   "cell_type": "markdown",
   "metadata": {
    "id": "a-FSWRJ6zSMM"
   },
   "source": [
    "### Price recommender for hosts\n",
    "\n",
    "\n",
    "Recommender system 2: Price recommender for hosts [6 marks]\n",
    "\n",
    "If a new host wants to offer their room / flat / house on Airbnb, they need to decide on what the nightly price will be. There is no official guidance but hosts have been requesting for Airbnb to provide an algorithm. After some deliberation, you work out that the function should meet these specifications:\n",
    "\n",
    "\n",
    "• The user has to provide the geolocation (latitude and longitude) of their property.\n",
    "\n",
    "• Your algorithm searches for the geographically closest properties (simply measured by Euclidean distance in terms of latitude/longitude) that are already listed on Airbnb. Your price recommendation will be the mean of the nightly prices of these closeby properties.\n",
    "\n",
    "• The user should be able to set the number of closeby properties (called neighbours) that are considered. A larger number of neighbours indicates a larger geographical area.\n",
    "\n",
    "• You can ignore the fact that some neighbours could be in a different neighbourhood.\n",
    "Nightly prices are quite different for different room types. The user should be able to set the desired room type. If the room type is defined, only properties of the respective room type are taken into consideration.\n",
    "\n",
    "\n",
    "From these specifications, you arrive at the following function signature:\n",
    "\n",
    "\n",
    "recommend_price(df, latitude, longitude, n_neighbours, room_type)\n",
    "\n",
    "\n",
    "with the variables being latitude and longitude representing geolocation of the property, n_neighbours the number of neighbouring properties the user wants to take into account. room_type, if specified, restricts the neighbours search to properties of the given room type; it should default to None which means that any property type is considered.\n",
    "To test your two recommendation system, provide function calls for each of the two functions. You can freely select the parameters of the function call.\n",
    "\n",
    "\n",
    "To solve this question, provide corresponding code in Question 2c in the notebook."
   ]
  },
  {
   "cell_type": "code",
   "execution_count": 180,
   "metadata": {
    "id": "DqUlxeDk4Hww"
   },
   "outputs": [],
   "source": [
    "# your code...\n",
    "\n",
    "def recommend_price(df, latitude, longitude, n_neighbours, room_type = None):\n",
    "    \n",
    "    # Keep columns of interest only\n",
    "    df = df[['room_type', 'price', 'latitude', 'longitude']]\n",
    "\n",
    "\n",
    "    # Initial filter should a room_type be specified. Only executes when room_type is True after bool() evaluation\n",
    "    \n",
    "    if bool(room_type):\n",
    "\n",
    "        df = df[df['room_type'] == room_type]\n",
    "\n",
    "    \n",
    "    print(df)\n",
    "    # We combine latitude and longitude as a list into a new column\n",
    "    \n",
    "    df['location'] = list(zip(df['latitude'], df['longitude']))\n",
    "    \n",
    "    \n",
    "    def euclidean_distance(x, y = [latitude, longitude]):\n",
    "        return math.sqrt(sum(pow(a-b,2) for a,b in zip(x,y)))\n",
    "    \n",
    "    # Calculate Euclidean Distance\n",
    "    df['distance'] = df['location'].apply(euclidean_distance)\n",
    "    \n",
    "    \n",
    "    neighbours = df.sort_values(by=['distance'], ascending = True)[:n_neighbours]\n",
    "    \n",
    "    \n",
    "    return neighbours['price'].mean()\n",
    "    \n",
    "\n",
    "\n",
    "# Euclidean Distance formula calculation idea obtained from the site bigdata-madesimple. Consulted in may 2021:\n",
    "# https://bigdata-madesimple.com/implementing-the-five-most-popular-similarity-measures-in-python/\n",
    "    "
   ]
  },
  {
   "cell_type": "code",
   "execution_count": 179,
   "metadata": {},
   "outputs": [
    {
     "name": "stdout",
     "output_type": "stream",
     "text": [
      "RangeIndex(start=0, stop=18522, step=1)\n",
      "             room_type  price  latitude  longitude\n",
      "0         Private room   59.0  52.36575    4.94142\n",
      "1         Private room  236.0  52.36509    4.89354\n",
      "2      Entire home/apt  125.0  52.37297    4.88339\n",
      "3         Private room  135.0  52.38761    4.89188\n",
      "4         Private room   75.0  52.36610    4.88953\n",
      "...                ...    ...       ...        ...\n",
      "18517  Entire home/apt  330.0  52.36978    4.91443\n",
      "18518  Entire home/apt  350.0  52.36404    4.87967\n",
      "18519  Entire home/apt   60.0  52.34071    4.90854\n",
      "18520     Private room   67.0  52.36003    4.89317\n",
      "18521     Private room   96.0  52.37701    4.91797\n",
      "\n",
      "[18522 rows x 4 columns]\n"
     ]
    },
    {
     "name": "stderr",
     "output_type": "stream",
     "text": [
      "C:\\ProgramData\\Anaconda3\\lib\\site-packages\\ipykernel_launcher.py:19: SettingWithCopyWarning: \n",
      "A value is trying to be set on a copy of a slice from a DataFrame.\n",
      "Try using .loc[row_indexer,col_indexer] = value instead\n",
      "\n",
      "See the caveats in the documentation: http://pandas.pydata.org/pandas-docs/stable/user_guide/indexing.html#returning-a-view-versus-a-copy\n",
      "C:\\ProgramData\\Anaconda3\\lib\\site-packages\\ipykernel_launcher.py:26: SettingWithCopyWarning: \n",
      "A value is trying to be set on a copy of a slice from a DataFrame.\n",
      "Try using .loc[row_indexer,col_indexer] = value instead\n",
      "\n",
      "See the caveats in the documentation: http://pandas.pydata.org/pandas-docs/stable/user_guide/indexing.html#returning-a-view-versus-a-copy\n"
     ]
    },
    {
     "data": {
      "text/plain": [
       "89.14285714285714"
      ]
     },
     "execution_count": 179,
     "metadata": {},
     "output_type": "execute_result"
    }
   ],
   "source": [
    "recommend_price(df, 50, 5, 7)#, room_type = 'Private room')"
   ]
  },
  {
   "cell_type": "code",
   "execution_count": null,
   "metadata": {},
   "outputs": [],
   "source": []
  }
 ],
 "metadata": {
  "colab": {
   "collapsed_sections": [],
   "name": "Part1_2.ipynb",
   "provenance": [],
   "toc_visible": true
  },
  "kernelspec": {
   "display_name": "Python 3",
   "language": "python",
   "name": "python3"
  },
  "language_info": {
   "codemirror_mode": {
    "name": "ipython",
    "version": 3
   },
   "file_extension": ".py",
   "mimetype": "text/x-python",
   "name": "python",
   "nbconvert_exporter": "python",
   "pygments_lexer": "ipython3",
   "version": "3.8.5"
  }
 },
 "nbformat": 4,
 "nbformat_minor": 1
}
